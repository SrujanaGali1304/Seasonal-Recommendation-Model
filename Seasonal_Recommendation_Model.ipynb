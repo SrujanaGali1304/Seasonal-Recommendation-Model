{
  "cells": [
    {
      "cell_type": "markdown",
      "metadata": {
        "id": "2f6TfVpH5dzv",
        "tags": []
      },
      "source": [
        "# 4. Seasonal Recommendation Model\n",
        "Authors: Anish Puthuraya, Sindhura Uppalapati, Srujana Gali, Anusha Ronaki\n",
        "\n",
        "<hr>"
      ]
    },
    {
      "cell_type": "markdown",
      "metadata": {
        "id": "4Eh00iLHfZm8"
      },
      "source": [
        "## Set Parameters"
      ]
    },
    {
      "cell_type": "code",
      "execution_count": null,
      "metadata": {
        "id": "EdwNUgvd5b2Y"
      },
      "outputs": [],
      "source": [
        "root_folder = \"\"\n",
        "\n",
        "input_data = root_folder + \"processed_data/\"\n",
        "\n",
        "# Middleware represents the folder in which the intermediate datasets are saved into for efficiency purposes\n",
        "middleware_data = root_folder + \"Middleware/\"\n",
        "\n",
        "output_data = root_folder + \"recommendations/\""
      ]
    },
    {
      "cell_type": "code",
      "execution_count": null,
      "metadata": {
        "id": "EGznoJ08ZwKN",
        "tags": [
          "parameters"
        ]
      },
      "outputs": [],
      "source": [
        "current_date = '2023-10-31'\n",
        "window = [-3, 0]\n",
        "\n",
        "season = [\"week\", \"month\"]\n",
        "season = season[0]"
      ]
    },
    {
      "cell_type": "markdown",
      "metadata": {
        "id": "0tXEaAUz5fIJ"
      },
      "source": [
        "## Import Packages"
      ]
    },
    {
      "cell_type": "code",
      "execution_count": null,
      "metadata": {
        "id": "MiAMM7m3yInJ"
      },
      "outputs": [],
      "source": [
        "import pyspark\n",
        "from pyspark.sql import SparkSession\n",
        "from pyspark.sql.types import StructType, StructField, IntegerType, DoubleType, StringType, DateType\n",
        "import pyspark.sql.functions as F\n",
        "import pandas as pd\n",
        "import os.path"
      ]
    },
    {
      "cell_type": "code",
      "execution_count": null,
      "metadata": {
        "id": "BS_IKqNgyWFi",
        "outputId": "2f2bbac6-1123-4560-add4-c61ed9b8f769"
      },
      "outputs": [
        {
          "name": "stderr",
          "output_type": "stream",
          "text": [
            "23/07/31 13:40:21 WARN NativeCodeLoader: Unable to load native-hadoop library for your platform... using builtin-java classes where applicable\n",
            "Using Spark's default log4j profile: org/apache/spark/log4j-defaults.properties\n",
            "Setting default log level to \"WARN\".\n",
            "To adjust logging level use sc.setLogLevel(newLevel). For SparkR, use setLogLevel(newLevel).\n"
          ]
        }
      ],
      "source": [
        "spark = SparkSession.builder.master(\"local[1]\").appName('seasonal_recommendation_model').getOrCreate()"
      ]
    },
    {
      "cell_type": "code",
      "execution_count": null,
      "metadata": {
        "id": "5itUyMPxlRIm"
      },
      "outputs": [],
      "source": [
        "current_date = pd.to_datetime(current_date).normalize()"
      ]
    },
    {
      "cell_type": "markdown",
      "metadata": {
        "id": "oxeD3oUy5nVA"
      },
      "source": [
        "<hr>\n",
        "\n",
        "## Read and Process Data"
      ]
    },
    {
      "cell_type": "markdown",
      "metadata": {
        "id": "LlDlfhO9OF3b"
      },
      "source": [
        "### Add Season Column"
      ]
    },
    {
      "cell_type": "code",
      "execution_count": null,
      "metadata": {
        "colab": {
          "base_uri": "https://localhost:8080/"
        },
        "id": "QA42E5qpMkRo",
        "outputId": "537944d3-4bcb-4bd8-d411-f0a79ffeb996"
      },
      "outputs": [
        {
          "name": "stdout",
          "output_type": "stream",
          "text": [
            "+----------+----------+---------+-----+------+\n",
            "| tran_date|product_id|banner_id|Count|season|\n",
            "+----------+----------+---------+-----+------+\n",
            "|2023-03-29|    244894|     1001|  328|    13|\n",
            "|2021-10-03|    164489|     1001|   18|    39|\n",
            "|2022-02-06|    225287|     1001|   77|     5|\n",
            "|2022-12-29|    297688|     1001|    0|    52|\n",
            "|2021-04-22|    256079|     1001|    3|    16|\n",
            "+----------+----------+---------+-----+------+\n",
            "only showing top 5 rows\n",
            "\n"
          ]
        }
      ],
      "source": [
        "if not os.path.exists(middleware_data + \"tran_data_season.parquet\"):\n",
        "\n",
        "    data = spark.read.parquet(input_data).repartition(200)\n",
        "\n",
        "    if season == \"week\":\n",
        "        data = data.withColumn(\"season\", F.weekofyear(F.col('tran_date')))\n",
        "    elif season == \"month\":\n",
        "        data = data.withColumn(\"season\", F.month(F.col('tran_date')))\n",
        "\n",
        "    data.write.parquet(middleware_data + \"tran_data_season.parquet\")\n",
        "\n",
        "data = spark.read.parquet(middleware_data + \"tran_data_season.parquet\")\n",
        "data.show(5)"
      ]
    },
    {
      "cell_type": "markdown",
      "metadata": {
        "id": "Oa_CrDFzOplp"
      },
      "source": [
        "### Compute Product-Season Mean"
      ]
    },
    {
      "cell_type": "code",
      "execution_count": null,
      "metadata": {
        "colab": {
          "base_uri": "https://localhost:8080/"
        },
        "id": "p4ELCi4ROQDJ",
        "outputId": "5cccc21f-107f-4887-9e43-1f8b7bc08a05"
      },
      "outputs": [
        {
          "name": "stdout",
          "output_type": "stream",
          "text": [
            "+----------+------+-------------------+\n",
            "|product_id|season|product_season_mean|\n",
            "+----------+------+-------------------+\n",
            "|      3930|    29|  398.7857142857143|\n",
            "|    251881|    46|                0.0|\n",
            "|    284340|    52|0.14285714285714285|\n",
            "|    325215|    14|                0.0|\n",
            "|    177095|    43|0.07142857142857142|\n",
            "+----------+------+-------------------+\n",
            "only showing top 5 rows\n",
            "\n"
          ]
        }
      ],
      "source": [
        "if not os.path.exists(middleware_data + \"product_season_mean.parquet\"):\n",
        "    product_season_mean = data.groupBy('product_id', 'season').agg({'Count': 'mean'})\n",
        "    product_season_mean = product_season_mean.withColumnRenamed('avg(Count)', 'product_season_mean')\n",
        "\n",
        "    product_season_mean.write.parquet(middleware_data + \"product_season_mean.parquet\")\n",
        "\n",
        "product_season_mean = spark.read.parquet(middleware_data + \"product_season_mean.parquet\")\n",
        "product_season_mean.show(5)"
      ]
    },
    {
      "cell_type": "markdown",
      "metadata": {
        "id": "rN5os2W_O1xp"
      },
      "source": [
        "### Compute Product Mean"
      ]
    },
    {
      "cell_type": "code",
      "execution_count": null,
      "metadata": {
        "colab": {
          "base_uri": "https://localhost:8080/"
        },
        "id": "2JNl5_7QO14x",
        "outputId": "70a920da-cf01-45e8-8c18-dec4147499da"
      },
      "outputs": [
        {
          "name": "stdout",
          "output_type": "stream",
          "text": [
            "+----------+-------------------+\n",
            "|product_id|       product_mean|\n",
            "+----------+-------------------+\n",
            "|    311373|  1.583050847457627|\n",
            "|    255347|0.45084745762711864|\n",
            "|    321525| 30.010169491525424|\n",
            "|    340808|  3.222598870056497|\n",
            "|    237752|                0.0|\n",
            "+----------+-------------------+\n",
            "only showing top 5 rows\n",
            "\n"
          ]
        }
      ],
      "source": [
        "if not os.path.exists(middleware_data + \"product_mean.parquet\"):\n",
        "    product_mean = data.groupby('product_id').agg({'Count': 'mean'})\n",
        "    product_mean = product_mean.withColumnRenamed('avg(Count)', 'product_mean')\n",
        "\n",
        "    product_mean.write.parquet(middleware_data + \"product_mean.parquet\")\n",
        "\n",
        "product_mean = spark.read.parquet(middleware_data + \"product_mean.parquet\")\n",
        "product_mean.show(5)"
      ]
    },
    {
      "cell_type": "markdown",
      "metadata": {
        "id": "GQ4ziVcrPGkg"
      },
      "source": [
        "### Join Product Mean and Product-Season Mean"
      ]
    },
    {
      "cell_type": "code",
      "execution_count": null,
      "metadata": {
        "colab": {
          "base_uri": "https://localhost:8080/"
        },
        "id": "N6N7WYHMPGrW",
        "outputId": "14388fe9-c253-43fc-d6b0-0ceb2100eb0a"
      },
      "outputs": [
        {
          "name": "stderr",
          "output_type": "stream",
          "text": [
            "[Stage 7:==================================================>        (6 + 1) / 7]\r"
          ]
        },
        {
          "name": "stdout",
          "output_type": "stream",
          "text": [
            "+----------+------+-------------------+------------------+\n",
            "|product_id|season|product_season_mean|      product_mean|\n",
            "+----------+------+-------------------+------------------+\n",
            "|       206|     1| 13.714285714285714|14.618079096045198|\n",
            "|       206|     2|  13.80952380952381|14.618079096045198|\n",
            "|       206|     3| 15.952380952380953|14.618079096045198|\n",
            "|       206|     4|  16.19047619047619|14.618079096045198|\n",
            "|       206|     5|  16.38095238095238|14.618079096045198|\n",
            "+----------+------+-------------------+------------------+\n",
            "only showing top 5 rows\n",
            "\n"
          ]
        },
        {
          "name": "stderr",
          "output_type": "stream",
          "text": [
            "                                                                                \r"
          ]
        }
      ],
      "source": [
        "product_season_mean = product_season_mean.join(product_mean, on='product_id', how='left')\n",
        "product_season_mean.orderBy([\"product_id\", \"season\"], ascending=[True, True]).show(5)"
      ]
    },
    {
      "cell_type": "markdown",
      "metadata": {
        "id": "b-hl5_-GP5qr"
      },
      "source": [
        "### Extract Current Season and Define Window List"
      ]
    },
    {
      "cell_type": "code",
      "execution_count": null,
      "metadata": {
        "colab": {
          "base_uri": "https://localhost:8080/"
        },
        "id": "X3uZR-fDP50G",
        "outputId": "9b54431f-2f47-4e20-fd0d-e43b1fafffde"
      },
      "outputs": [
        {
          "data": {
            "text/plain": [
              "44"
            ]
          },
          "execution_count": 88,
          "metadata": {},
          "output_type": "execute_result"
        }
      ],
      "source": [
        "if season == \"week\":\n",
        "    current_season = current_date.isocalendar().week\n",
        "elif season == \"month\":\n",
        "    current_season = current_date.dt.month\n",
        "\n",
        "current_season"
      ]
    },
    {
      "cell_type": "code",
      "execution_count": null,
      "metadata": {
        "colab": {
          "base_uri": "https://localhost:8080/"
        },
        "id": "lXIb-zNDRsR1",
        "outputId": "990c4a02-5ce5-4bf7-93b7-f2a9a555b10a"
      },
      "outputs": [
        {
          "data": {
            "text/plain": [
              "[41, 42, 43, 44]"
            ]
          },
          "execution_count": 89,
          "metadata": {},
          "output_type": "execute_result"
        }
      ],
      "source": [
        "if season == \"week\":\n",
        "    window_list = [(current_season + i) % 53 for i in range(window[0], window[1] + 1)]\n",
        "elif season == \"month\":\n",
        "    window_list = [(current_season + i) % 12 for i in range(window[0], window[1] + 1)]\n",
        "\n",
        "window_list"
      ]
    },
    {
      "cell_type": "markdown",
      "metadata": {
        "id": "HjzUNwM5Tcle"
      },
      "source": [
        "### Generate Recommendations for the Current Date"
      ]
    },
    {
      "cell_type": "code",
      "execution_count": null,
      "metadata": {
        "id": "f6jLIvoPWxOe"
      },
      "outputs": [],
      "source": [
        "# Filter the DataFrame based on 'season' column\n",
        "product_season_mean_filtered = product_season_mean.filter(product_season_mean['season'].isin(window_list))\n",
        "\n",
        "# Group by 'product_id' and calculate mean for 'product_season_mean' and 'product_mean'\n",
        "product_season_mean_filtered = product_season_mean_filtered.groupBy('product_id')\\\n",
        "    .agg(F.mean('product_season_mean').alias('product_season_mean'),\n",
        "         F.mean('product_mean').alias('product_mean'))\n",
        "\n",
        "# Calculate 'seasonality_factor'\n",
        "product_season_mean_filtered = product_season_mean_filtered.withColumn(\n",
        "    'seasonality_factor',\n",
        "    F.col('product_season_mean') / F.col('product_mean'))\n",
        "\n",
        "# Drop 'product_season_mean' and 'product_mean' columns, and impute nulls as 0\n",
        "product_season_mean_filtered = product_season_mean_filtered\\\n",
        "  .drop('product_season_mean', 'product_mean')\\\n",
        "  .fillna(0, subset=[\"seasonality_factor\"])\n",
        "\n",
        "# Sort by 'seasonality_factor' in descending order\n",
        "recommendations = product_season_mean_filtered.sort(F.desc('seasonality_factor'))"
      ]
    },
    {
      "cell_type": "code",
      "execution_count": null,
      "metadata": {
        "colab": {
          "base_uri": "https://localhost:8080/"
        },
        "id": "CwspydO5SxUu",
        "outputId": "f8429f85-19e5-4f12-84e1-067f32283684"
      },
      "outputs": [
        {
          "name": "stderr",
          "output_type": "stream",
          "text": [
            "[Stage 108:================================================>        (6 + 1) / 7]\r"
          ]
        },
        {
          "name": "stdout",
          "output_type": "stream",
          "text": [
            "+----------+------------------+\n",
            "|product_id|seasonality_factor|\n",
            "+----------+------------------+\n",
            "|    332477| 15.80357142857143|\n",
            "|    335739| 15.80357142857143|\n",
            "|    330646| 15.80357142857143|\n",
            "|    332968|15.803571428571429|\n",
            "|    335730|15.803571428571429|\n",
            "+----------+------------------+\n",
            "only showing top 5 rows\n",
            "\n"
          ]
        },
        {
          "name": "stderr",
          "output_type": "stream",
          "text": [
            "                                                                                \r"
          ]
        }
      ],
      "source": [
        "recommendations.show(5)"
      ]
    },
    {
      "cell_type": "markdown",
      "metadata": {
        "id": "Q6IbHdg26FMt"
      },
      "source": [
        "<hr>\n",
        "\n",
        "## Export Data"
      ]
    },
    {
      "cell_type": "code",
      "execution_count": null,
      "metadata": {
        "id": "rqVud9-S6FWQ",
        "outputId": "3244d827-09e7-4387-a428-1e769ca073d1"
      },
      "outputs": [
        {
          "name": "stderr",
          "output_type": "stream",
          "text": [
            "                                                                                \r"
          ]
        }
      ],
      "source": [
        "recommendations.write.format('parquet') \\\n",
        "  .mode('overwrite').save(output_data + current_date.strftime('%Y-%m-%d'))"
      ]
    },
    {
      "cell_type": "code",
      "source": [],
      "metadata": {
        "id": "XloxZbjWmFSd"
      },
      "execution_count": null,
      "outputs": []
    }
  ],
  "metadata": {
    "colab": {
      "provenance": []
    },
    "kernelspec": {
      "display_name": "Python 3 (ipykernel)",
      "language": "python",
      "name": "python3"
    },
    "language_info": {
      "codemirror_mode": {
        "name": "ipython",
        "version": 3
      },
      "file_extension": ".py",
      "mimetype": "text/x-python",
      "name": "python",
      "nbconvert_exporter": "python",
      "pygments_lexer": "ipython3",
      "version": "3.9.9"
    }
  },
  "nbformat": 4,
  "nbformat_minor": 0
}